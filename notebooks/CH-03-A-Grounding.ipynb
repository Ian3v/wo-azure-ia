{
 "cells": [
  {
   "cell_type": "markdown",
   "metadata": {},
   "source": [
    "# Reto 03-A-Grounding (Fundamentación) "
   ]
  },
  {
   "cell_type": "markdown",
   "metadata": {},
   "source": [
    "## 1. Descripción General \n",
    "\n",
    "La Fundamentación (Grounding) es una técnica utilizada cuando deseas que el modelo devuelva respuestas fiables a una pregunta dada. A menudo, los modelos GPT necesitarán contexto adicional para proporcionar una respuesta que no alucine, también conocida como dar respuestas falsas. Recuerda que estos modelos GPT solo han sido entrenados con datos hasta septiembre de 2021. Además, los modelos no han sido entrenados con datos específicos de casos de uso.\n",
    "\n",
    "Existen un par de métodos para llevar a cabo la fundamentación. En este escenario, nos centraremos principalmente en el grounding básico dentro del prompt. En el reto cuatro, verás otras aplicaciones de fundamentación utilizando una base de conocimientos externa e implementando la técnica de Generación Aumentada con Recuperación, o RAG.\n",
    "\n",
    "Para entender los conceptos básicos de la fundamentación y sus beneficios, este notebook te guiará a través de un ejemplo. A continuación se muestra el escenario que incorporaremos.\n",
    "\n",
    "## 2. Escenario\n",
    "\n",
    "Estás escribiendo un informe sobre el torneo de tenis de Wimbledon y necesitas discutir el último partido. Descubre quién fue el ganador de los individuales masculinos y femeninos en 2023."
   ]
  },
  {
   "cell_type": "markdown",
   "metadata": {},
   "source": [
    "## 3. Comencemos con la Implementación\n",
    "\n",
    "Necesitarás importar los módulos necesarios. Las siguientes celdas son pasos clave de configuración que completaste en las tareas anteriores."
   ]
  },
  {
   "cell_type": "code",
   "execution_count": 1,
   "metadata": {},
   "outputs": [
    {
     "data": {
      "text/plain": [
       "True"
      ]
     },
     "execution_count": 1,
     "metadata": {},
     "output_type": "execute_result"
    }
   ],
   "source": [
    "import openai\n",
    "import os\n",
    "import json\n",
    "\n",
    "from dotenv import load_dotenv, find_dotenv\n",
    "load_dotenv(find_dotenv())"
   ]
  },
  {
   "cell_type": "markdown",
   "metadata": {},
   "source": [
    "Configura tu entorno para acceder a tus claves de Azure OpenAI. Consulta tu recurso de Azure OpenAI en el Portal de Azure para obtener información sobre tu punto de conexión y tus claves de Azure OpenAI.\n",
    "\n",
    "Por razones de seguridad, almacena tu información sensible en un archivo .env."
   ]
  },
  {
   "cell_type": "code",
   "execution_count": 3,
   "metadata": {},
   "outputs": [],
   "source": [
    "API_KEY = os.getenv(\"OPENAI_API_KEY\")\n",
    "assert API_KEY, \"ERROR: Azure OpenAI Key is missing\"\n",
    "openai.api_key = API_KEY\n",
    "\n",
    "RESOURCE_ENDPOINT = os.getenv(\"OPENAI_API_BASE\",\"\").strip()\n",
    "assert RESOURCE_ENDPOINT, \"ERROR: Azure OpenAI Endpoint is missing\"\n",
    "assert \"openai.azure.com\" in RESOURCE_ENDPOINT.lower(), \"ERROR: Azure OpenAI Endpoint should be in the form: \\n\\n\\t<your unique endpoint identifier>.openai.azure.com\"\n",
    "openai.api_base = RESOURCE_ENDPOINT\n",
    "\n",
    "openai.api_type = os.getenv(\"OPENAI_API_TYPE\")\n",
    "openai.api_version = os.getenv(\"OPENAI_API_VERSION\")\n",
    "\n",
    "model=os.getenv(\"CHAT_MODEL_NAME\")"
   ]
  },
  {
   "cell_type": "markdown",
   "metadata": {},
   "source": [
    "### 3.0 Funciones Auxiliares\n",
    "\n",
    "**get_completion** ayuda a crear una respuesta de OpenAI utilizando el modelo de completado de texto de tu elección."
   ]
  },
  {
   "cell_type": "code",
   "execution_count": 4,
   "metadata": {},
   "outputs": [],
   "source": [
    "def get_chat_completion(prompt, model=model):\n",
    "    messages = [{\"role\": \"user\", \"content\": prompt}]\n",
    "    response = openai.ChatCompletion.create(\n",
    "        engine=model,\n",
    "        messages=messages,\n",
    "        temperature=0, # this is the degree of randomness of the model's output\n",
    "        max_tokens = 200,\n",
    "        top_p = 1.0\n",
    "    )\n",
    "    return response.choices[0].message[\"content\"]"
   ]
  },
  {
   "attachments": {},
   "cell_type": "markdown",
   "metadata": {},
   "source": [
    "### 3.1 Antes de la Fundamentación\n",
    "\n",
    "#### Tarea #1 del Estudiante:\n",
    "\n",
    "Edita el prompt en la celda siguiente para hacerle una pregunta al modelo sobre el escenario.\n",
    "\n",
    "Scenario: You are writing a report on the Wimbledon tennis tournament and need to discuss the latest match. Find out who the 2023 winner was for the mens and womens singles."
   ]
  },
  {
   "cell_type": "code",
   "execution_count": 5,
   "metadata": {},
   "outputs": [
    {
     "name": "stdout",
     "output_type": "stream",
     "text": [
      "Response: I'm sorry, but you haven't provided a question for me to answer. Please ask a question and I'll do my best to assist you.\n",
      "\n"
     ]
    }
   ],
   "source": [
    "prompt = f\"\"\"\n",
    "Enter Question Here\n",
    "\"\"\"\n",
    "\n",
    "model_response = get_chat_completion(prompt, model=model)\n",
    "print(f\"Response: {model_response}\\n\")\n"
   ]
  },
  {
   "cell_type": "markdown",
   "metadata": {},
   "source": [
    "¿Es esta la respuesta que esperabas?"
   ]
  },
  {
   "attachments": {},
   "cell_type": "markdown",
   "metadata": {},
   "source": [
    "### 3.2 Después de la Fundamentación\n",
    "\n",
    "#### Tarea #2 del Estudiante:\n",
    "\n",
    "Modifica el prompt a continuación para fundamentar el modelo. ¿Cómo puedes obtener una respuesta más precisa que la que recibiste anteriormente?"
   ]
  },
  {
   "cell_type": "code",
   "execution_count": null,
   "metadata": {},
   "outputs": [
    {
     "name": "stdout",
     "output_type": "stream",
     "text": [
      "Response: El Premio Nobel de Física 2024 fue otorgado a los profesores John Hopfield y Geoffrey Hinton por sentar las bases para el aprendizaje de las máquinas, aspecto clave para el desarrollo de la inteligencia artificial. Hopfield creó en 1982 una memoria asociativa, mientras que Hinton desarrolló un método que permite a una máquina encontrar propiedades en los datos de forma autónoma, lo cual permitió realizar tareas como identificar elementos específicos en imágenes. El jurado determinó que el trabajo de los científicos ha servido para que las computadoras sean capaces de imitar funciones humanas como la memoria y el aprendizaje, lo cual les significó el prestigioso galardón.\n",
      "\n"
     ]
    }
   ],
   "source": [
    "context= f\"\"\"\n",
    "Los Premios Nobel son los galardones internacionales que se otorgan anualmente en reconocimiento a los logros más destacados en los campos de la física, química, medicina, literatura y paz. \n",
    "\n",
    "También se entrega el Premio Nobel de Economía, aunque no fue propuesto por Alfred Nobel, inventor y químico sueco que estableció esta premiación como parte de su testamento, fechado el 27 de noviembre de 1895.\n",
    "\n",
    "Nobel, creador de la dinamita, dejó una fortuna de 31 millones de coronas suecas para financiar los premios. Después de su muerte en 1896, su testamento fue ejecutado y los premios comenzaron a entregarse en 1901.\n",
    "\n",
    "Los premios, que seleccionan los candidatos y escogen los ganadores mediante un proceso riguroso y secreto, son considerados los más prestigiosos en sus respectivos campos debido al reconocimiento y prestigio internacional que vienen con este galardón, además de destacar la excelencia científica y literaria, el impacto en la sociedad y la humanidad, y también son considerados un incentivo para la innovación y la investigación.\n",
    "\n",
    "Contenido relacionado → Gabriel García Márquez: vida y obra del maestro del Realismo Mágico\n",
    "\n",
    "Ganadores y ganadoras Premios Nobel 2024\n",
    "Premio Nobel de Física 2024\n",
    "ganadores y ganadoras premios nobel 2024 logros lista completa fisica\n",
    "El premio Nobel de Física 2024 fue otorgado a los profesores John Hopfield (91) y Geoffrey Hinton (76), quienes según aseguró el jurado, sentaron las bases para el aprendizaje de las máquinas, aspecto clave para el desarrollo de la inteligencia artificial.\n",
    "\n",
    "Así, la Real Academia Sueca de las Ciencias premió a Hopield y a Hinton por sus \"descubrimientos e invenciones”, “fundamentales para el aprendizaje automático con redes neuronales artificiales\", declaró el jurado.\n",
    "\n",
    "Hopfield es profesor en la Universidad de Princeton (Estados Unidos), y Hinton, profesor en la Universidad de Toronto (Canadá). \n",
    "\n",
    "Hopfield, por su parte, creó en 1982 una memoria asociativa, la cual podía almacenar y reconstruir imágenes y otros tipos de patrones en los datos; mientras que Hinton desarrolló un método que permite a una máquina encontrar propiedades en los datos de forma autónoma, lo cual permitió realizar tareas como identificar elementos específicos en imágenes.\n",
    "\n",
    "“El premio de este año es sobre máquinas que aprenden”, anunció desde Estocolmo, Hans Ellegren, secretario general de la Academia sueca.\n",
    "\n",
    "Es decir, el jurado determinó que el trabajo de los científicos ha servido para que las computadoras sean capaces de imitar funciones humanas como la memoria y el aprendizaje, lo cual les significó el prestigioso galardón.\"\"\"\n",
    "\n",
    "\n",
    "prompt = f\"\"\"\n",
    "Quiero saber  quien gano el premio de Fisica y porque \n",
    "\n",
    "Este es el contexto:{context}\n",
    "\"\"\"\n",
    "\n",
    "model_response = get_chat_completion(prompt, model=model)\n",
    "print(f\"Response: {model_response}\\n\")"
   ]
  },
  {
   "cell_type": "markdown",
   "metadata": {},
   "source": [
    "¿Es esta la respuesta que esperabas para ayudarte a escribir tu informe?"
   ]
  },
  {
   "cell_type": "markdown",
   "metadata": {},
   "source": [
    "## Criterios de Éxito\n",
    "\n",
    "Para completar este desafío con éxito:\n",
    "\n",
    "* Demuestra que has comprendido cómo fundamentar un modelo y por qué es importante.\n",
    "* Asegúrate de obtener una respuesta precisa a tu pregunta que te ayudará a completar el escenario descrito al principio del desafío.\n"
   ]
  }
 ],
 "metadata": {
  "kernelspec": {
   "display_name": "Python 3",
   "language": "python",
   "name": "python3"
  },
  "language_info": {
   "codemirror_mode": {
    "name": "ipython",
    "version": 3
   },
   "file_extension": ".py",
   "mimetype": "text/x-python",
   "name": "python",
   "nbconvert_exporter": "python",
   "pygments_lexer": "ipython3",
   "version": "3.12.1"
  },
  "orig_nbformat": 4
 },
 "nbformat": 4,
 "nbformat_minor": 2
}
